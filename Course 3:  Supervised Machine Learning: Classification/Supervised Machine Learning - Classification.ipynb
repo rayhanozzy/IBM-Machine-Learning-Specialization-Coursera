{
 "cells": [
  {
   "attachments": {},
   "cell_type": "markdown",
   "metadata": {},
   "source": [
    "# Summary\n",
    "\n",
    "The dataset for this project was collected from [kaggle](https://www.kaggle.com/kevinarvai/clinvar-conflicting) and originates from [ClinVar](https://www.ncbi.nlm.nih.gov/clinvar/). ClinVar is a public resource containing annotations about human genetic variants. These variants are classified by clinical laboratories on a categorical spectrum ranging from benign, likely benign, uncertain significance, likely pathogenic, and pathogenic. Variants that have conflicting classifications (from laboratory to laboratory) can cause confusion when clinicians or researchers try to interpret whether the variant has an impact on the disease of a given patient.\n",
    "\n",
    "The objective is to predict whether a ClinVar variant will have conflicting classifications. This is presented here as a binary classification problem, where each record in the dataset is a genetic variant.\n",
    "\n",
    "Conflicting classifications are when two of any of the following three categories are present for one variant, two submissions of one category are not considered conflicting.\n",
    "\n",
    "- Likely Benign or Benign\n",
    "- VUS\n",
    "- Likely Pathogenic or Pathogenic\n",
    "\n",
    "Conflicting classification has been assigned to the CLASS column. It is a binary representation of whether or not a variant has conflicting classifications, where **0** represents **consistent classifications** and **1** represents **conflicting classifications**.\n",
    "\n",
    "In this project, we will employ four different classifier models to find the best candidate algorithm that accurately predicts whether a ClinVar variant will have conflicting classifications.\n",
    "\n",
    "# Exploratory Data Analysis"
   ]
  },
  {
   "cell_type": "code",
   "execution_count": 1,
   "metadata": {},
   "outputs": [],
   "source": [
    "import pandas as pd\n",
    "import numpy as np\n",
    "import seaborn as sns\n",
    "import matplotlib.pyplot as plt\n",
    "from sklearn.preprocessing import LabelBinarizer, LabelEncoder, OrdinalEncoder, MinMaxScaler\n",
    "from sklearn.model_selection import StratifiedShuffleSplit, train_test_split, GridSearchCV\n",
    "from sklearn.neighbors import KNeighborsClassifier\n",
    "from sklearn.metrics import confusion_matrix, accuracy_score, classification_report, precision_score, f1_score, roc_auc_score\n",
    "from sklearn.linear_model import LogisticRegression\n",
    "from sklearn.tree import DecisionTreeClassifier\n",
    "from sklearn.ensemble import RandomForestClassifier\n",
    "from sklearn.metrics import precision_recall_fscore_support as score\n",
    "\n",
    "# Mute the sklearn and IPython warnings\n",
    "import warnings\n",
    "warnings.filterwarnings('ignore', module='sklearn')\n",
    "warnings.filterwarnings('ignore', module='IPython')"
   ]
  },
  {
   "cell_type": "code",
   "execution_count": 2,
   "metadata": {},
   "outputs": [
    {
     "data": {
      "text/html": [
       "<div>\n",
       "<style scoped>\n",
       "    .dataframe tbody tr th:only-of-type {\n",
       "        vertical-align: middle;\n",
       "    }\n",
       "\n",
       "    .dataframe tbody tr th {\n",
       "        vertical-align: top;\n",
       "    }\n",
       "\n",
       "    .dataframe thead th {\n",
       "        text-align: right;\n",
       "    }\n",
       "</style>\n",
       "<table border=\"1\" class=\"dataframe\">\n",
       "  <thead>\n",
       "    <tr style=\"text-align: right;\">\n",
       "      <th></th>\n",
       "      <th>CHROM</th>\n",
       "      <th>POS</th>\n",
       "      <th>REF</th>\n",
       "      <th>ALT</th>\n",
       "      <th>AF_ESP</th>\n",
       "      <th>AF_EXAC</th>\n",
       "      <th>AF_TGP</th>\n",
       "      <th>CLNDISDB</th>\n",
       "      <th>CLNDISDBINCL</th>\n",
       "      <th>CLNDN</th>\n",
       "      <th>...</th>\n",
       "      <th>SIFT</th>\n",
       "      <th>PolyPhen</th>\n",
       "      <th>MOTIF_NAME</th>\n",
       "      <th>MOTIF_POS</th>\n",
       "      <th>HIGH_INF_POS</th>\n",
       "      <th>MOTIF_SCORE_CHANGE</th>\n",
       "      <th>LoFtool</th>\n",
       "      <th>CADD_PHRED</th>\n",
       "      <th>CADD_RAW</th>\n",
       "      <th>BLOSUM62</th>\n",
       "    </tr>\n",
       "  </thead>\n",
       "  <tbody>\n",
       "    <tr>\n",
       "      <th>0</th>\n",
       "      <td>1</td>\n",
       "      <td>1168180</td>\n",
       "      <td>G</td>\n",
       "      <td>C</td>\n",
       "      <td>0.0771</td>\n",
       "      <td>0.10020</td>\n",
       "      <td>0.1066</td>\n",
       "      <td>MedGen:CN169374</td>\n",
       "      <td>NaN</td>\n",
       "      <td>not_specified</td>\n",
       "      <td>...</td>\n",
       "      <td>tolerated</td>\n",
       "      <td>benign</td>\n",
       "      <td>NaN</td>\n",
       "      <td>NaN</td>\n",
       "      <td>NaN</td>\n",
       "      <td>NaN</td>\n",
       "      <td>NaN</td>\n",
       "      <td>1.053</td>\n",
       "      <td>-0.208682</td>\n",
       "      <td>2.0</td>\n",
       "    </tr>\n",
       "    <tr>\n",
       "      <th>1</th>\n",
       "      <td>1</td>\n",
       "      <td>1470752</td>\n",
       "      <td>G</td>\n",
       "      <td>A</td>\n",
       "      <td>0.0000</td>\n",
       "      <td>0.00000</td>\n",
       "      <td>0.0000</td>\n",
       "      <td>MedGen:C1843891,OMIM:607454,Orphanet:ORPHA9877...</td>\n",
       "      <td>NaN</td>\n",
       "      <td>Spinocerebellar_ataxia_21|not_provided</td>\n",
       "      <td>...</td>\n",
       "      <td>deleterious_low_confidence</td>\n",
       "      <td>benign</td>\n",
       "      <td>NaN</td>\n",
       "      <td>NaN</td>\n",
       "      <td>NaN</td>\n",
       "      <td>NaN</td>\n",
       "      <td>NaN</td>\n",
       "      <td>31.000</td>\n",
       "      <td>6.517838</td>\n",
       "      <td>-3.0</td>\n",
       "    </tr>\n",
       "    <tr>\n",
       "      <th>2</th>\n",
       "      <td>1</td>\n",
       "      <td>1737942</td>\n",
       "      <td>A</td>\n",
       "      <td>G</td>\n",
       "      <td>0.0000</td>\n",
       "      <td>0.00001</td>\n",
       "      <td>0.0000</td>\n",
       "      <td>Human_Phenotype_Ontology:HP:0000486,MedGen:C00...</td>\n",
       "      <td>NaN</td>\n",
       "      <td>Strabismus|Nystagmus|Hypothyroidism|Intellectu...</td>\n",
       "      <td>...</td>\n",
       "      <td>deleterious</td>\n",
       "      <td>probably_damaging</td>\n",
       "      <td>NaN</td>\n",
       "      <td>NaN</td>\n",
       "      <td>NaN</td>\n",
       "      <td>NaN</td>\n",
       "      <td>NaN</td>\n",
       "      <td>28.100</td>\n",
       "      <td>6.061752</td>\n",
       "      <td>-1.0</td>\n",
       "    </tr>\n",
       "    <tr>\n",
       "      <th>3</th>\n",
       "      <td>1</td>\n",
       "      <td>2160305</td>\n",
       "      <td>G</td>\n",
       "      <td>A</td>\n",
       "      <td>0.0000</td>\n",
       "      <td>0.00000</td>\n",
       "      <td>0.0000</td>\n",
       "      <td>MedGen:C1321551,OMIM:182212,SNOMED_CT:83092002...</td>\n",
       "      <td>NaN</td>\n",
       "      <td>Shprintzen-Goldberg_syndrome|not_provided</td>\n",
       "      <td>...</td>\n",
       "      <td>NaN</td>\n",
       "      <td>NaN</td>\n",
       "      <td>NaN</td>\n",
       "      <td>NaN</td>\n",
       "      <td>NaN</td>\n",
       "      <td>NaN</td>\n",
       "      <td>NaN</td>\n",
       "      <td>22.500</td>\n",
       "      <td>3.114491</td>\n",
       "      <td>NaN</td>\n",
       "    </tr>\n",
       "    <tr>\n",
       "      <th>4</th>\n",
       "      <td>1</td>\n",
       "      <td>2160305</td>\n",
       "      <td>G</td>\n",
       "      <td>T</td>\n",
       "      <td>0.0000</td>\n",
       "      <td>0.00000</td>\n",
       "      <td>0.0000</td>\n",
       "      <td>MedGen:C1321551,OMIM:182212,SNOMED_CT:83092002</td>\n",
       "      <td>NaN</td>\n",
       "      <td>Shprintzen-Goldberg_syndrome</td>\n",
       "      <td>...</td>\n",
       "      <td>NaN</td>\n",
       "      <td>NaN</td>\n",
       "      <td>NaN</td>\n",
       "      <td>NaN</td>\n",
       "      <td>NaN</td>\n",
       "      <td>NaN</td>\n",
       "      <td>NaN</td>\n",
       "      <td>24.700</td>\n",
       "      <td>4.766224</td>\n",
       "      <td>-3.0</td>\n",
       "    </tr>\n",
       "  </tbody>\n",
       "</table>\n",
       "<p>5 rows × 46 columns</p>\n",
       "</div>"
      ],
      "text/plain": [
       "  CHROM      POS REF ALT  AF_ESP  AF_EXAC  AF_TGP  \\\n",
       "0     1  1168180   G   C  0.0771  0.10020  0.1066   \n",
       "1     1  1470752   G   A  0.0000  0.00000  0.0000   \n",
       "2     1  1737942   A   G  0.0000  0.00001  0.0000   \n",
       "3     1  2160305   G   A  0.0000  0.00000  0.0000   \n",
       "4     1  2160305   G   T  0.0000  0.00000  0.0000   \n",
       "\n",
       "                                            CLNDISDB CLNDISDBINCL  \\\n",
       "0                                    MedGen:CN169374          NaN   \n",
       "1  MedGen:C1843891,OMIM:607454,Orphanet:ORPHA9877...          NaN   \n",
       "2  Human_Phenotype_Ontology:HP:0000486,MedGen:C00...          NaN   \n",
       "3  MedGen:C1321551,OMIM:182212,SNOMED_CT:83092002...          NaN   \n",
       "4     MedGen:C1321551,OMIM:182212,SNOMED_CT:83092002          NaN   \n",
       "\n",
       "                                               CLNDN  ...  \\\n",
       "0                                      not_specified  ...   \n",
       "1             Spinocerebellar_ataxia_21|not_provided  ...   \n",
       "2  Strabismus|Nystagmus|Hypothyroidism|Intellectu...  ...   \n",
       "3          Shprintzen-Goldberg_syndrome|not_provided  ...   \n",
       "4                       Shprintzen-Goldberg_syndrome  ...   \n",
       "\n",
       "                         SIFT           PolyPhen MOTIF_NAME MOTIF_POS  \\\n",
       "0                   tolerated             benign        NaN       NaN   \n",
       "1  deleterious_low_confidence             benign        NaN       NaN   \n",
       "2                 deleterious  probably_damaging        NaN       NaN   \n",
       "3                         NaN                NaN        NaN       NaN   \n",
       "4                         NaN                NaN        NaN       NaN   \n",
       "\n",
       "  HIGH_INF_POS MOTIF_SCORE_CHANGE  LoFtool  CADD_PHRED  CADD_RAW BLOSUM62  \n",
       "0          NaN                NaN      NaN       1.053 -0.208682      2.0  \n",
       "1          NaN                NaN      NaN      31.000  6.517838     -3.0  \n",
       "2          NaN                NaN      NaN      28.100  6.061752     -1.0  \n",
       "3          NaN                NaN      NaN      22.500  3.114491      NaN  \n",
       "4          NaN                NaN      NaN      24.700  4.766224     -3.0  \n",
       "\n",
       "[5 rows x 46 columns]"
      ]
     },
     "execution_count": 2,
     "metadata": {},
     "output_type": "execute_result"
    }
   ],
   "source": [
    "data = pd.read_csv('./clinvar_conflicting.csv', sep=',')\n",
    "data.head()"
   ]
  },
  {
   "cell_type": "code",
   "execution_count": 3,
   "metadata": {},
   "outputs": [
    {
     "data": {
      "text/plain": [
       "(65188, 46)"
      ]
     },
     "execution_count": 3,
     "metadata": {},
     "output_type": "execute_result"
    }
   ],
   "source": [
    "data.shape"
   ]
  },
  {
   "cell_type": "markdown",
   "metadata": {},
   "source": [
    "We have a lot more consistent than conflicting classifications."
   ]
  },
  {
   "cell_type": "code",
   "execution_count": 4,
   "metadata": {},
   "outputs": [
    {
     "data": {
      "text/plain": [
       "0    48754\n",
       "1    16434\n",
       "Name: CLASS, dtype: int64"
      ]
     },
     "execution_count": 4,
     "metadata": {},
     "output_type": "execute_result"
    }
   ],
   "source": [
    "data.CLASS.value_counts()"
   ]
  },
  {
   "cell_type": "code",
   "execution_count": 5,
   "metadata": {},
   "outputs": [
    {
     "data": {
      "text/html": [
       "<div>\n",
       "<style scoped>\n",
       "    .dataframe tbody tr th:only-of-type {\n",
       "        vertical-align: middle;\n",
       "    }\n",
       "\n",
       "    .dataframe tbody tr th {\n",
       "        vertical-align: top;\n",
       "    }\n",
       "\n",
       "    .dataframe thead th {\n",
       "        text-align: right;\n",
       "    }\n",
       "</style>\n",
       "<table border=\"1\" class=\"dataframe\">\n",
       "  <thead>\n",
       "    <tr style=\"text-align: right;\">\n",
       "      <th></th>\n",
       "      <th>Unique Values</th>\n",
       "    </tr>\n",
       "    <tr>\n",
       "      <th>Variable</th>\n",
       "      <th></th>\n",
       "    </tr>\n",
       "  </thead>\n",
       "  <tbody>\n",
       "    <tr>\n",
       "      <th>CHROM</th>\n",
       "      <td>38</td>\n",
       "    </tr>\n",
       "    <tr>\n",
       "      <th>POS</th>\n",
       "      <td>63115</td>\n",
       "    </tr>\n",
       "    <tr>\n",
       "      <th>REF</th>\n",
       "      <td>866</td>\n",
       "    </tr>\n",
       "    <tr>\n",
       "      <th>ALT</th>\n",
       "      <td>458</td>\n",
       "    </tr>\n",
       "    <tr>\n",
       "      <th>AF_ESP</th>\n",
       "      <td>2842</td>\n",
       "    </tr>\n",
       "    <tr>\n",
       "      <th>AF_EXAC</th>\n",
       "      <td>6667</td>\n",
       "    </tr>\n",
       "    <tr>\n",
       "      <th>AF_TGP</th>\n",
       "      <td>2087</td>\n",
       "    </tr>\n",
       "    <tr>\n",
       "      <th>CLNDISDB</th>\n",
       "      <td>9234</td>\n",
       "    </tr>\n",
       "    <tr>\n",
       "      <th>CLNDISDBINCL</th>\n",
       "      <td>94</td>\n",
       "    </tr>\n",
       "    <tr>\n",
       "      <th>CLNDN</th>\n",
       "      <td>9260</td>\n",
       "    </tr>\n",
       "    <tr>\n",
       "      <th>CLNDNINCL</th>\n",
       "      <td>102</td>\n",
       "    </tr>\n",
       "    <tr>\n",
       "      <th>CLNHGVS</th>\n",
       "      <td>65188</td>\n",
       "    </tr>\n",
       "    <tr>\n",
       "      <th>CLNSIGINCL</th>\n",
       "      <td>138</td>\n",
       "    </tr>\n",
       "    <tr>\n",
       "      <th>CLNVC</th>\n",
       "      <td>7</td>\n",
       "    </tr>\n",
       "    <tr>\n",
       "      <th>CLNVI</th>\n",
       "      <td>27655</td>\n",
       "    </tr>\n",
       "    <tr>\n",
       "      <th>MC</th>\n",
       "      <td>91</td>\n",
       "    </tr>\n",
       "    <tr>\n",
       "      <th>ORIGIN</th>\n",
       "      <td>31</td>\n",
       "    </tr>\n",
       "    <tr>\n",
       "      <th>SSR</th>\n",
       "      <td>3</td>\n",
       "    </tr>\n",
       "    <tr>\n",
       "      <th>CLASS</th>\n",
       "      <td>2</td>\n",
       "    </tr>\n",
       "    <tr>\n",
       "      <th>Allele</th>\n",
       "      <td>374</td>\n",
       "    </tr>\n",
       "    <tr>\n",
       "      <th>Consequence</th>\n",
       "      <td>48</td>\n",
       "    </tr>\n",
       "    <tr>\n",
       "      <th>IMPACT</th>\n",
       "      <td>4</td>\n",
       "    </tr>\n",
       "    <tr>\n",
       "      <th>SYMBOL</th>\n",
       "      <td>2329</td>\n",
       "    </tr>\n",
       "    <tr>\n",
       "      <th>Feature_type</th>\n",
       "      <td>3</td>\n",
       "    </tr>\n",
       "    <tr>\n",
       "      <th>Feature</th>\n",
       "      <td>2370</td>\n",
       "    </tr>\n",
       "    <tr>\n",
       "      <th>BIOTYPE</th>\n",
       "      <td>3</td>\n",
       "    </tr>\n",
       "    <tr>\n",
       "      <th>EXON</th>\n",
       "      <td>3265</td>\n",
       "    </tr>\n",
       "    <tr>\n",
       "      <th>INTRON</th>\n",
       "      <td>1930</td>\n",
       "    </tr>\n",
       "    <tr>\n",
       "      <th>cDNA_position</th>\n",
       "      <td>13971</td>\n",
       "    </tr>\n",
       "    <tr>\n",
       "      <th>CDS_position</th>\n",
       "      <td>13664</td>\n",
       "    </tr>\n",
       "    <tr>\n",
       "      <th>Protein_position</th>\n",
       "      <td>7340</td>\n",
       "    </tr>\n",
       "    <tr>\n",
       "      <th>Amino_acids</th>\n",
       "      <td>1263</td>\n",
       "    </tr>\n",
       "    <tr>\n",
       "      <th>Codons</th>\n",
       "      <td>2221</td>\n",
       "    </tr>\n",
       "    <tr>\n",
       "      <th>DISTANCE</th>\n",
       "      <td>97</td>\n",
       "    </tr>\n",
       "    <tr>\n",
       "      <th>STRAND</th>\n",
       "      <td>3</td>\n",
       "    </tr>\n",
       "    <tr>\n",
       "      <th>BAM_EDIT</th>\n",
       "      <td>3</td>\n",
       "    </tr>\n",
       "    <tr>\n",
       "      <th>SIFT</th>\n",
       "      <td>5</td>\n",
       "    </tr>\n",
       "    <tr>\n",
       "      <th>PolyPhen</th>\n",
       "      <td>5</td>\n",
       "    </tr>\n",
       "    <tr>\n",
       "      <th>MOTIF_NAME</th>\n",
       "      <td>3</td>\n",
       "    </tr>\n",
       "    <tr>\n",
       "      <th>MOTIF_POS</th>\n",
       "      <td>2</td>\n",
       "    </tr>\n",
       "    <tr>\n",
       "      <th>HIGH_INF_POS</th>\n",
       "      <td>2</td>\n",
       "    </tr>\n",
       "    <tr>\n",
       "      <th>MOTIF_SCORE_CHANGE</th>\n",
       "      <td>3</td>\n",
       "    </tr>\n",
       "    <tr>\n",
       "      <th>LoFtool</th>\n",
       "      <td>1196</td>\n",
       "    </tr>\n",
       "    <tr>\n",
       "      <th>CADD_PHRED</th>\n",
       "      <td>9325</td>\n",
       "    </tr>\n",
       "    <tr>\n",
       "      <th>CADD_RAW</th>\n",
       "      <td>63804</td>\n",
       "    </tr>\n",
       "    <tr>\n",
       "      <th>BLOSUM62</th>\n",
       "      <td>7</td>\n",
       "    </tr>\n",
       "  </tbody>\n",
       "</table>\n",
       "</div>"
      ],
      "text/plain": [
       "                    Unique Values\n",
       "Variable                         \n",
       "CHROM                          38\n",
       "POS                         63115\n",
       "REF                           866\n",
       "ALT                           458\n",
       "AF_ESP                       2842\n",
       "AF_EXAC                      6667\n",
       "AF_TGP                       2087\n",
       "CLNDISDB                     9234\n",
       "CLNDISDBINCL                   94\n",
       "CLNDN                        9260\n",
       "CLNDNINCL                     102\n",
       "CLNHGVS                     65188\n",
       "CLNSIGINCL                    138\n",
       "CLNVC                           7\n",
       "CLNVI                       27655\n",
       "MC                             91\n",
       "ORIGIN                         31\n",
       "SSR                             3\n",
       "CLASS                           2\n",
       "Allele                        374\n",
       "Consequence                    48\n",
       "IMPACT                          4\n",
       "SYMBOL                       2329\n",
       "Feature_type                    3\n",
       "Feature                      2370\n",
       "BIOTYPE                         3\n",
       "EXON                         3265\n",
       "INTRON                       1930\n",
       "cDNA_position               13971\n",
       "CDS_position                13664\n",
       "Protein_position             7340\n",
       "Amino_acids                  1263\n",
       "Codons                       2221\n",
       "DISTANCE                       97\n",
       "STRAND                          3\n",
       "BAM_EDIT                        3\n",
       "SIFT                            5\n",
       "PolyPhen                        5\n",
       "MOTIF_NAME                      3\n",
       "MOTIF_POS                       2\n",
       "HIGH_INF_POS                    2\n",
       "MOTIF_SCORE_CHANGE              3\n",
       "LoFtool                      1196\n",
       "CADD_PHRED                   9325\n",
       "CADD_RAW                    63804\n",
       "BLOSUM62                        7"
      ]
     },
     "execution_count": 5,
     "metadata": {},
     "output_type": "execute_result"
    }
   ],
   "source": [
    "pd.DataFrame([[i, len(data[i].unique())] for i in data.columns],\n",
    "             columns=['Variable', 'Unique Values']).set_index('Variable')"
   ]
  },
  {
   "cell_type": "markdown",
   "metadata": {},
   "source": [
    "Dropping columns that have too many unique values and therefore they do not carry any information."
   ]
  },
  {
   "cell_type": "code",
   "execution_count": 6,
   "metadata": {},
   "outputs": [],
   "source": [
    "unique_col = pd.DataFrame([[i, len(data[i].unique())] for i in data.columns],\n",
    "                          columns=['Variable', 'Unique Values']).set_index('Variable')\n",
    "\n",
    "to_drop = list(unique_col[unique_col['Unique Values'] > 3000].index)\n",
    "data.drop(to_drop, axis=1, inplace=True)"
   ]
  },
  {
   "cell_type": "code",
   "execution_count": 7,
   "metadata": {},
   "outputs": [
    {
     "data": {
      "text/html": [
       "<div>\n",
       "<style scoped>\n",
       "    .dataframe tbody tr th:only-of-type {\n",
       "        vertical-align: middle;\n",
       "    }\n",
       "\n",
       "    .dataframe tbody tr th {\n",
       "        vertical-align: top;\n",
       "    }\n",
       "\n",
       "    .dataframe thead th {\n",
       "        text-align: right;\n",
       "    }\n",
       "</style>\n",
       "<table border=\"1\" class=\"dataframe\">\n",
       "  <thead>\n",
       "    <tr style=\"text-align: right;\">\n",
       "      <th></th>\n",
       "      <th>Unique Values</th>\n",
       "    </tr>\n",
       "    <tr>\n",
       "      <th>Variable</th>\n",
       "      <th></th>\n",
       "    </tr>\n",
       "  </thead>\n",
       "  <tbody>\n",
       "    <tr>\n",
       "      <th>CHROM</th>\n",
       "      <td>38</td>\n",
       "    </tr>\n",
       "    <tr>\n",
       "      <th>REF</th>\n",
       "      <td>866</td>\n",
       "    </tr>\n",
       "    <tr>\n",
       "      <th>ALT</th>\n",
       "      <td>458</td>\n",
       "    </tr>\n",
       "    <tr>\n",
       "      <th>AF_ESP</th>\n",
       "      <td>2842</td>\n",
       "    </tr>\n",
       "    <tr>\n",
       "      <th>AF_TGP</th>\n",
       "      <td>2087</td>\n",
       "    </tr>\n",
       "    <tr>\n",
       "      <th>CLNDISDBINCL</th>\n",
       "      <td>94</td>\n",
       "    </tr>\n",
       "    <tr>\n",
       "      <th>CLNDNINCL</th>\n",
       "      <td>102</td>\n",
       "    </tr>\n",
       "    <tr>\n",
       "      <th>CLNSIGINCL</th>\n",
       "      <td>138</td>\n",
       "    </tr>\n",
       "    <tr>\n",
       "      <th>CLNVC</th>\n",
       "      <td>7</td>\n",
       "    </tr>\n",
       "    <tr>\n",
       "      <th>MC</th>\n",
       "      <td>91</td>\n",
       "    </tr>\n",
       "    <tr>\n",
       "      <th>ORIGIN</th>\n",
       "      <td>31</td>\n",
       "    </tr>\n",
       "    <tr>\n",
       "      <th>SSR</th>\n",
       "      <td>3</td>\n",
       "    </tr>\n",
       "    <tr>\n",
       "      <th>CLASS</th>\n",
       "      <td>2</td>\n",
       "    </tr>\n",
       "    <tr>\n",
       "      <th>Allele</th>\n",
       "      <td>374</td>\n",
       "    </tr>\n",
       "    <tr>\n",
       "      <th>Consequence</th>\n",
       "      <td>48</td>\n",
       "    </tr>\n",
       "    <tr>\n",
       "      <th>IMPACT</th>\n",
       "      <td>4</td>\n",
       "    </tr>\n",
       "    <tr>\n",
       "      <th>SYMBOL</th>\n",
       "      <td>2329</td>\n",
       "    </tr>\n",
       "    <tr>\n",
       "      <th>Feature_type</th>\n",
       "      <td>3</td>\n",
       "    </tr>\n",
       "    <tr>\n",
       "      <th>Feature</th>\n",
       "      <td>2370</td>\n",
       "    </tr>\n",
       "    <tr>\n",
       "      <th>BIOTYPE</th>\n",
       "      <td>3</td>\n",
       "    </tr>\n",
       "    <tr>\n",
       "      <th>INTRON</th>\n",
       "      <td>1930</td>\n",
       "    </tr>\n",
       "    <tr>\n",
       "      <th>Amino_acids</th>\n",
       "      <td>1263</td>\n",
       "    </tr>\n",
       "    <tr>\n",
       "      <th>Codons</th>\n",
       "      <td>2221</td>\n",
       "    </tr>\n",
       "    <tr>\n",
       "      <th>DISTANCE</th>\n",
       "      <td>97</td>\n",
       "    </tr>\n",
       "    <tr>\n",
       "      <th>STRAND</th>\n",
       "      <td>3</td>\n",
       "    </tr>\n",
       "    <tr>\n",
       "      <th>BAM_EDIT</th>\n",
       "      <td>3</td>\n",
       "    </tr>\n",
       "    <tr>\n",
       "      <th>SIFT</th>\n",
       "      <td>5</td>\n",
       "    </tr>\n",
       "    <tr>\n",
       "      <th>PolyPhen</th>\n",
       "      <td>5</td>\n",
       "    </tr>\n",
       "    <tr>\n",
       "      <th>MOTIF_NAME</th>\n",
       "      <td>3</td>\n",
       "    </tr>\n",
       "    <tr>\n",
       "      <th>MOTIF_POS</th>\n",
       "      <td>2</td>\n",
       "    </tr>\n",
       "    <tr>\n",
       "      <th>HIGH_INF_POS</th>\n",
       "      <td>2</td>\n",
       "    </tr>\n",
       "    <tr>\n",
       "      <th>MOTIF_SCORE_CHANGE</th>\n",
       "      <td>3</td>\n",
       "    </tr>\n",
       "    <tr>\n",
       "      <th>LoFtool</th>\n",
       "      <td>1196</td>\n",
       "    </tr>\n",
       "    <tr>\n",
       "      <th>BLOSUM62</th>\n",
       "      <td>7</td>\n",
       "    </tr>\n",
       "  </tbody>\n",
       "</table>\n",
       "</div>"
      ],
      "text/plain": [
       "                    Unique Values\n",
       "Variable                         \n",
       "CHROM                          38\n",
       "REF                           866\n",
       "ALT                           458\n",
       "AF_ESP                       2842\n",
       "AF_TGP                       2087\n",
       "CLNDISDBINCL                   94\n",
       "CLNDNINCL                     102\n",
       "CLNSIGINCL                    138\n",
       "CLNVC                           7\n",
       "MC                             91\n",
       "ORIGIN                         31\n",
       "SSR                             3\n",
       "CLASS                           2\n",
       "Allele                        374\n",
       "Consequence                    48\n",
       "IMPACT                          4\n",
       "SYMBOL                       2329\n",
       "Feature_type                    3\n",
       "Feature                      2370\n",
       "BIOTYPE                         3\n",
       "INTRON                       1930\n",
       "Amino_acids                  1263\n",
       "Codons                       2221\n",
       "DISTANCE                       97\n",
       "STRAND                          3\n",
       "BAM_EDIT                        3\n",
       "SIFT                            5\n",
       "PolyPhen                        5\n",
       "MOTIF_NAME                      3\n",
       "MOTIF_POS                       2\n",
       "HIGH_INF_POS                    2\n",
       "MOTIF_SCORE_CHANGE              3\n",
       "LoFtool                      1196\n",
       "BLOSUM62                        7"
      ]
     },
     "execution_count": 7,
     "metadata": {},
     "output_type": "execute_result"
    }
   ],
   "source": [
    "pd.DataFrame([[i, len(data[i].unique())] for i in data.columns],\n",
    "             columns=['Variable', 'Unique Values']).set_index('Variable')"
   ]
  },
  {
   "cell_type": "markdown",
   "metadata": {},
   "source": [
    "## Featureset Exploration\n",
    "\n",
    "**CHROM**: Chromosome the variant is located on\n",
    "\n",
    "**REF**: Reference Allele\n",
    "\n",
    "**ALT**: Alternaete Allele\n",
    "\n",
    "**AF_ESP**: Allele frequencies from GO-ESP\n",
    "\n",
    "**AF_EXAC**: Allele frequencies from ExAC\n",
    "\n",
    "**AF_TGP**: Allele frequencies from the 1000 genomes project\n",
    "\n",
    "**CLNDISDB**: Tag-value pairs of disease database name and identifier, e.g. OMIM:NNNNNN\n",
    "\n",
    "**CLNDISDBINCL**: For included Variant: Tag-value pairs of disease database name and identifier, e.g. OMIM:NN\n",
    "\n",
    "**CLNDN**: ClinVar's preferred disease name for the concept specified by disease identifiers in CLNDISDB\n",
    "\n",
    "More information on many of the features can be found at these two links:\n",
    "\n",
    "https://useast.ensembl.org/info/docs/tools/vep/vep_formats.html#output\n",
    "\n",
    "https://useast.ensembl.org/info/genome/variation/prediction/predicted_data.html#consequences"
   ]
  },
  {
   "cell_type": "code",
   "execution_count": 8,
   "metadata": {},
   "outputs": [],
   "source": [
    "num_missing = data.isnull().sum()\n",
    "percentage_missing = data.isnull().sum().apply(lambda x: x/data.shape[0]*100)"
   ]
  },
  {
   "cell_type": "code",
   "execution_count": 9,
   "metadata": {},
   "outputs": [
    {
     "data": {
      "text/plain": [
       "MOTIF_SCORE_CHANGE    99.996932\n",
       "HIGH_INF_POS          99.996932\n",
       "MOTIF_POS             99.996932\n",
       "MOTIF_NAME            99.996932\n",
       "DISTANCE              99.834325\n",
       "SSR                   99.800577\n",
       "CLNDISDBINCL          99.743818\n",
       "CLNSIGINCL            99.743818\n",
       "CLNDNINCL             99.743818\n",
       "INTRON                86.495981\n",
       "PolyPhen              61.962324\n",
       "SIFT                  61.900963\n",
       "BLOSUM62              60.739707\n",
       "BAM_EDIT              50.958765\n",
       "Amino_acids           15.346383\n",
       "Codons                15.346383\n",
       "LoFtool                6.462846\n",
       "MC                     1.297785\n",
       "SYMBOL                 0.024544\n",
       "BIOTYPE                0.024544\n",
       "Feature_type           0.021476\n",
       "Feature                0.021476\n",
       "STRAND                 0.021476\n",
       "Consequence            0.000000\n",
       "Allele                 0.000000\n",
       "CLASS                  0.000000\n",
       "IMPACT                 0.000000\n",
       "ORIGIN                 0.000000\n",
       "CLNVC                  0.000000\n",
       "AF_TGP                 0.000000\n",
       "AF_ESP                 0.000000\n",
       "ALT                    0.000000\n",
       "REF                    0.000000\n",
       "CHROM                  0.000000\n",
       "Name: Percentage of Missing, dtype: float64"
      ]
     },
     "execution_count": 9,
     "metadata": {},
     "output_type": "execute_result"
    }
   ],
   "source": [
    "missing_data = pd.DataFrame({'Number of Missing':  num_missing,\n",
    "                             'Percentage of Missing': percentage_missing})\n",
    "\n",
    "missing_data['Percentage of Missing'].sort_values(ascending = False)"
   ]
  },
  {
   "cell_type": "markdown",
   "metadata": {},
   "source": [
    "Drop the columns where more than 20% of the data is missing."
   ]
  },
  {
   "cell_type": "code",
   "execution_count": 10,
   "metadata": {},
   "outputs": [],
   "source": [
    "drop_list = list(missing_data[missing_data['Percentage of Missing'] >= 20].index)\n",
    "data.drop(drop_list,axis = 1, inplace=True)"
   ]
  },
  {
   "cell_type": "code",
   "execution_count": 11,
   "metadata": {},
   "outputs": [
    {
     "data": {
      "text/plain": [
       "CHROM               0\n",
       "REF                 0\n",
       "ALT                 0\n",
       "AF_ESP              0\n",
       "AF_TGP              0\n",
       "CLNVC               0\n",
       "MC                846\n",
       "ORIGIN              0\n",
       "CLASS               0\n",
       "Allele              0\n",
       "Consequence         0\n",
       "IMPACT              0\n",
       "SYMBOL             16\n",
       "Feature_type       14\n",
       "Feature            14\n",
       "BIOTYPE            16\n",
       "Amino_acids     10004\n",
       "Codons          10004\n",
       "STRAND             14\n",
       "LoFtool          4213\n",
       "dtype: int64"
      ]
     },
     "execution_count": 11,
     "metadata": {},
     "output_type": "execute_result"
    }
   ],
   "source": [
    "data.isnull().sum()"
   ]
  },
  {
   "cell_type": "code",
   "execution_count": 12,
   "metadata": {},
   "outputs": [
    {
     "data": {
      "text/plain": [
       "<AxesSubplot:>"
      ]
     },
     "execution_count": 12,
     "metadata": {},
     "output_type": "execute_result"
    },
    {
     "data": {
      "image/png": "[encoded data removed]",
      "text/plain": [
       "<Figure size 864x720 with 2 Axes>"
      ]
     },
     "metadata": {
      "needs_background": "light"
     },
     "output_type": "display_data"
    }
   ],
   "source": [
    "plt.figure(figsize = (12, 10))\n",
    "sns.heatmap(data.corr(), annot = True, linewidths=.5, cmap = plt.cm.cool)"
   ]
  },
  {
   "cell_type": "markdown",
   "metadata": {},
   "source": [
    "The correlation of **AF_ESP** with **AF_TGP** is above 0.8 hence dropping the **AF_TGP** column."
   ]
  },
  {
   "cell_type": "code",
   "execution_count": 13,
   "metadata": {},
   "outputs": [],
   "source": [
    "data.drop(['AF_TGP'],axis = 1, inplace=True)"
   ]
  },
  {
   "cell_type": "code",
   "execution_count": 14,
   "metadata": {},
   "outputs": [
    {
     "data": {
      "text/plain": [
       "MC               object\n",
       "SYMBOL           object\n",
       "Feature_type     object\n",
       "Feature          object\n",
       "BIOTYPE          object\n",
       "Amino_acids      object\n",
       "Codons           object\n",
       "STRAND          float64\n",
       "LoFtool         float64\n",
       "dtype: object"
      ]
     },
     "execution_count": 14,
     "metadata": {},
     "output_type": "execute_result"
    }
   ],
   "source": [
    "# check the types\n",
    "df = pd.DataFrame(data.isnull().sum().astype(int), columns=['Null'])\n",
    "null_list = list(df[df['Null'] != 0].index)\n",
    "data[null_list].dtypes"
   ]
  },
  {
   "cell_type": "code",
   "execution_count": 15,
   "metadata": {},
   "outputs": [
    {
     "data": {
      "text/html": [
       "<div>\n",
       "<style scoped>\n",
       "    .dataframe tbody tr th:only-of-type {\n",
       "        vertical-align: middle;\n",
       "    }\n",
       "\n",
       "    .dataframe tbody tr th {\n",
       "        vertical-align: top;\n",
       "    }\n",
       "\n",
       "    .dataframe thead th {\n",
       "        text-align: right;\n",
       "    }\n",
       "</style>\n",
       "<table border=\"1\" class=\"dataframe\">\n",
       "  <thead>\n",
       "    <tr style=\"text-align: right;\">\n",
       "      <th></th>\n",
       "      <th>MC</th>\n",
       "      <th>SYMBOL</th>\n",
       "      <th>Feature_type</th>\n",
       "      <th>Feature</th>\n",
       "      <th>BIOTYPE</th>\n",
       "      <th>Amino_acids</th>\n",
       "      <th>Codons</th>\n",
       "      <th>STRAND</th>\n",
       "      <th>LoFtool</th>\n",
       "    </tr>\n",
       "  </thead>\n",
       "  <tbody>\n",
       "    <tr>\n",
       "      <th>16552</th>\n",
       "      <td>SO:0001819|synonymous_variant</td>\n",
       "      <td>WNK1</td>\n",
       "      <td>Transcript</td>\n",
       "      <td>XM_005253733.1</td>\n",
       "      <td>protein_coding</td>\n",
       "      <td>Y</td>\n",
       "      <td>taC/taT</td>\n",
       "      <td>1.0</td>\n",
       "      <td>0.54000</td>\n",
       "    </tr>\n",
       "    <tr>\n",
       "      <th>22550</th>\n",
       "      <td>SO:0001583|missense_variant</td>\n",
       "      <td>ESRRB</td>\n",
       "      <td>Transcript</td>\n",
       "      <td>XM_005267403.1</td>\n",
       "      <td>protein_coding</td>\n",
       "      <td>P/L</td>\n",
       "      <td>cCg/cTg</td>\n",
       "      <td>1.0</td>\n",
       "      <td>0.19300</td>\n",
       "    </tr>\n",
       "    <tr>\n",
       "      <th>46034</th>\n",
       "      <td>SO:0001819|synonymous_variant</td>\n",
       "      <td>JPH2</td>\n",
       "      <td>Transcript</td>\n",
       "      <td>NM_020433.4</td>\n",
       "      <td>protein_coding</td>\n",
       "      <td>K</td>\n",
       "      <td>aaG/aaA</td>\n",
       "      <td>-1.0</td>\n",
       "      <td>NaN</td>\n",
       "    </tr>\n",
       "    <tr>\n",
       "      <th>42307</th>\n",
       "      <td>SO:0001583|missense_variant</td>\n",
       "      <td>TTN</td>\n",
       "      <td>Transcript</td>\n",
       "      <td>NM_001267550.1</td>\n",
       "      <td>protein_coding</td>\n",
       "      <td>I/V</td>\n",
       "      <td>Atc/Gtc</td>\n",
       "      <td>-1.0</td>\n",
       "      <td>0.97100</td>\n",
       "    </tr>\n",
       "    <tr>\n",
       "      <th>60830</th>\n",
       "      <td>SO:0001583|missense_variant</td>\n",
       "      <td>PLEC</td>\n",
       "      <td>Transcript</td>\n",
       "      <td>XM_005250976.1</td>\n",
       "      <td>protein_coding</td>\n",
       "      <td>A/T</td>\n",
       "      <td>Gcc/Acc</td>\n",
       "      <td>-1.0</td>\n",
       "      <td>0.00999</td>\n",
       "    </tr>\n",
       "  </tbody>\n",
       "</table>\n",
       "</div>"
      ],
      "text/plain": [
       "                                  MC SYMBOL Feature_type         Feature  \\\n",
       "16552  SO:0001819|synonymous_variant   WNK1   Transcript  XM_005253733.1   \n",
       "22550    SO:0001583|missense_variant  ESRRB   Transcript  XM_005267403.1   \n",
       "46034  SO:0001819|synonymous_variant   JPH2   Transcript     NM_020433.4   \n",
       "42307    SO:0001583|missense_variant    TTN   Transcript  NM_001267550.1   \n",
       "60830    SO:0001583|missense_variant   PLEC   Transcript  XM_005250976.1   \n",
       "\n",
       "              BIOTYPE Amino_acids   Codons  STRAND  LoFtool  \n",
       "16552  protein_coding           Y  taC/taT     1.0  0.54000  \n",
       "22550  protein_coding         P/L  cCg/cTg     1.0  0.19300  \n",
       "46034  protein_coding           K  aaG/aaA    -1.0      NaN  \n",
       "42307  protein_coding         I/V  Atc/Gtc    -1.0  0.97100  \n",
       "60830  protein_coding         A/T  Gcc/Acc    -1.0  0.00999  "
      ]
     },
     "execution_count": 15,
     "metadata": {},
     "output_type": "execute_result"
    }
   ],
   "source": [
    "data[null_list].sample(5)"
   ]
  },
  {
   "cell_type": "markdown",
   "metadata": {},
   "source": [
    "# Feature Transformation\n",
    "\n",
    "- Replace nan in **MC**, **SYMBOL**, **Feature_type**, **Feature**, **BIOTYPE**, **Amino_acids**, **Codons**, **STRAND** with the most frequent value\n",
    "- Replace nan in **LoFtool** with the mean "
   ]
  },
  {
   "cell_type": "code",
   "execution_count": 16,
   "metadata": {},
   "outputs": [
    {
     "data": {
      "text/plain": [
       "CHROM           0\n",
       "REF             0\n",
       "ALT             0\n",
       "AF_ESP          0\n",
       "CLNVC           0\n",
       "MC              0\n",
       "ORIGIN          0\n",
       "CLASS           0\n",
       "Allele          0\n",
       "Consequence     0\n",
       "IMPACT          0\n",
       "SYMBOL          0\n",
       "Feature_type    0\n",
       "Feature         0\n",
       "BIOTYPE         0\n",
       "Amino_acids     0\n",
       "Codons          0\n",
       "STRAND          0\n",
       "LoFtool         0\n",
       "dtype: int64"
      ]
     },
     "execution_count": 16,
     "metadata": {},
     "output_type": "execute_result"
    }
   ],
   "source": [
    "for x in [\"MC\", \"SYMBOL\", \"Feature_type\", \"Feature\", \n",
    "          \"BIOTYPE\", \"STRAND\", \"Amino_acids\", \"Codons\" ]:\n",
    "    data[x].fillna(data[x].mode()[0], inplace=True)\n",
    "\n",
    "data['LoFtool'].fillna(data['LoFtool'].mean(), inplace=True)\n",
    "\n",
    "data.isnull().sum()"
   ]
  },
  {
   "cell_type": "markdown",
   "metadata": {},
   "source": [
    "Now identify which variables are binary, categorical and ordinal by looking at the number of unique values each variable takes, then create list variables for categorical, numeric, binary, and ordinal variables."
   ]
  },
  {
   "cell_type": "code",
   "execution_count": 17,
   "metadata": {},
   "outputs": [],
   "source": [
    "dg = pd.DataFrame([[str(i),data[i].dtypes == 'object'] for i in data.columns],\n",
    "                  columns=['Variable','Object Type']).set_index('Variable')\n",
    "object_columns_names = list(dg[dg['Object Type'] == True].index)"
   ]
  },
  {
   "cell_type": "code",
   "execution_count": 18,
   "metadata": {},
   "outputs": [],
   "source": [
    "#display the number of unique values for columns type object\n",
    "df = data[object_columns_names]\n",
    "df_uniques = pd.DataFrame([[i, len(df[i].unique())] for i in df.columns],\n",
    "                          columns=['Variable', 'Unique Values']).set_index('Variable')"
   ]
  },
  {
   "cell_type": "code",
   "execution_count": 19,
   "metadata": {},
   "outputs": [
    {
     "data": {
      "text/html": [
       "<div>\n",
       "<style scoped>\n",
       "    .dataframe tbody tr th:only-of-type {\n",
       "        vertical-align: middle;\n",
       "    }\n",
       "\n",
       "    .dataframe tbody tr th {\n",
       "        vertical-align: top;\n",
       "    }\n",
       "\n",
       "    .dataframe thead th {\n",
       "        text-align: right;\n",
       "    }\n",
       "</style>\n",
       "<table border=\"1\" class=\"dataframe\">\n",
       "  <thead>\n",
       "    <tr style=\"text-align: right;\">\n",
       "      <th></th>\n",
       "      <th>Unique Values</th>\n",
       "    </tr>\n",
       "    <tr>\n",
       "      <th>Variable</th>\n",
       "      <th></th>\n",
       "    </tr>\n",
       "  </thead>\n",
       "  <tbody>\n",
       "    <tr>\n",
       "      <th>CHROM</th>\n",
       "      <td>38</td>\n",
       "    </tr>\n",
       "    <tr>\n",
       "      <th>REF</th>\n",
       "      <td>866</td>\n",
       "    </tr>\n",
       "    <tr>\n",
       "      <th>ALT</th>\n",
       "      <td>458</td>\n",
       "    </tr>\n",
       "    <tr>\n",
       "      <th>CLNVC</th>\n",
       "      <td>7</td>\n",
       "    </tr>\n",
       "    <tr>\n",
       "      <th>MC</th>\n",
       "      <td>90</td>\n",
       "    </tr>\n",
       "    <tr>\n",
       "      <th>Allele</th>\n",
       "      <td>374</td>\n",
       "    </tr>\n",
       "    <tr>\n",
       "      <th>Consequence</th>\n",
       "      <td>48</td>\n",
       "    </tr>\n",
       "    <tr>\n",
       "      <th>IMPACT</th>\n",
       "      <td>4</td>\n",
       "    </tr>\n",
       "    <tr>\n",
       "      <th>SYMBOL</th>\n",
       "      <td>2328</td>\n",
       "    </tr>\n",
       "    <tr>\n",
       "      <th>Feature_type</th>\n",
       "      <td>2</td>\n",
       "    </tr>\n",
       "    <tr>\n",
       "      <th>Feature</th>\n",
       "      <td>2369</td>\n",
       "    </tr>\n",
       "    <tr>\n",
       "      <th>BIOTYPE</th>\n",
       "      <td>2</td>\n",
       "    </tr>\n",
       "    <tr>\n",
       "      <th>Amino_acids</th>\n",
       "      <td>1262</td>\n",
       "    </tr>\n",
       "    <tr>\n",
       "      <th>Codons</th>\n",
       "      <td>2220</td>\n",
       "    </tr>\n",
       "  </tbody>\n",
       "</table>\n",
       "</div>"
      ],
      "text/plain": [
       "              Unique Values\n",
       "Variable                   \n",
       "CHROM                    38\n",
       "REF                     866\n",
       "ALT                     458\n",
       "CLNVC                     7\n",
       "MC                       90\n",
       "Allele                  374\n",
       "Consequence              48\n",
       "IMPACT                    4\n",
       "SYMBOL                 2328\n",
       "Feature_type              2\n",
       "Feature                2369\n",
       "BIOTYPE                   2\n",
       "Amino_acids            1262\n",
       "Codons                 2220"
      ]
     },
     "execution_count": 19,
     "metadata": {},
     "output_type": "execute_result"
    }
   ],
   "source": [
    "df_uniques"
   ]
  },
  {
   "cell_type": "code",
   "execution_count": 20,
   "metadata": {},
   "outputs": [
    {
     "data": {
      "text/plain": [
       "['Feature_type', 'BIOTYPE']"
      ]
     },
     "execution_count": 20,
     "metadata": {},
     "output_type": "execute_result"
    }
   ],
   "source": [
    "binary_variables = list(df_uniques[df_uniques['Unique Values'] == 2].index)\n",
    "binary_variables"
   ]
  },
  {
   "cell_type": "code",
   "execution_count": 21,
   "metadata": {},
   "outputs": [
    {
     "data": {
      "text/plain": [
       "['CHROM',\n",
       " 'REF',\n",
       " 'ALT',\n",
       " 'CLNVC',\n",
       " 'MC',\n",
       " 'Allele',\n",
       " 'Consequence',\n",
       " 'IMPACT',\n",
       " 'SYMBOL',\n",
       " 'Feature',\n",
       " 'Amino_acids',\n",
       " 'Codons']"
      ]
     },
     "execution_count": 21,
     "metadata": {},
     "output_type": "execute_result"
    }
   ],
   "source": [
    "categorical_variables = list(df_uniques[(df_uniques['Unique Values'] > 2)].index)\n",
    "categorical_variables"
   ]
  },
  {
   "cell_type": "code",
   "execution_count": 22,
   "metadata": {},
   "outputs": [
    {
     "data": {
      "text/plain": [
       "CHROM          object\n",
       "REF            object\n",
       "ALT            object\n",
       "CLNVC          object\n",
       "MC             object\n",
       "Allele         object\n",
       "Consequence    object\n",
       "IMPACT         object\n",
       "SYMBOL         object\n",
       "Feature        object\n",
       "Amino_acids    object\n",
       "Codons         object\n",
       "dtype: object"
      ]
     },
     "execution_count": 22,
     "metadata": {},
     "output_type": "execute_result"
    }
   ],
   "source": [
    "for col in categorical_variables:\n",
    "    data[col] = data[col].apply(lambda x: str(x))\n",
    "\n",
    "data[categorical_variables].dtypes"
   ]
  },
  {
   "cell_type": "code",
   "execution_count": 23,
   "metadata": {},
   "outputs": [
    {
     "data": {
      "text/plain": [
       "CLASS        int64\n",
       "LoFtool    float64\n",
       "STRAND     float64\n",
       "ORIGIN       int64\n",
       "AF_ESP     float64\n",
       "dtype: object"
      ]
     },
     "execution_count": 23,
     "metadata": {},
     "output_type": "execute_result"
    }
   ],
   "source": [
    "numeric_variables = list(set(data.columns) - set(categorical_variables) - set(binary_variables))\n",
    "data[numeric_variables].dtypes"
   ]
  },
  {
   "cell_type": "code",
   "execution_count": 24,
   "metadata": {},
   "outputs": [],
   "source": [
    "lb, le = LabelBinarizer(), LabelEncoder()\n",
    "\n",
    "#encoding ordinary variables\n",
    "for col in categorical_variables:\n",
    "    data[col] = le.fit_transform(data[col])\n",
    "\n",
    "# binary encoding binary variables\n",
    "for col in binary_variables:\n",
    "    data[col] = lb.fit_transform(data[col])"
   ]
  },
  {
   "cell_type": "code",
   "execution_count": 25,
   "metadata": {},
   "outputs": [
    {
     "data": {
      "text/html": [
       "<div>\n",
       "<style scoped>\n",
       "    .dataframe tbody tr th:only-of-type {\n",
       "        vertical-align: middle;\n",
       "    }\n",
       "\n",
       "    .dataframe tbody tr th {\n",
       "        vertical-align: top;\n",
       "    }\n",
       "\n",
       "    .dataframe thead th {\n",
       "        text-align: right;\n",
       "    }\n",
       "</style>\n",
       "<table border=\"1\" class=\"dataframe\">\n",
       "  <thead>\n",
       "    <tr style=\"text-align: right;\">\n",
       "      <th></th>\n",
       "      <th>CHROM</th>\n",
       "      <th>REF</th>\n",
       "      <th>ALT</th>\n",
       "      <th>AF_ESP</th>\n",
       "      <th>CLNVC</th>\n",
       "      <th>MC</th>\n",
       "      <th>ORIGIN</th>\n",
       "      <th>CLASS</th>\n",
       "      <th>Allele</th>\n",
       "      <th>Consequence</th>\n",
       "      <th>IMPACT</th>\n",
       "      <th>SYMBOL</th>\n",
       "      <th>Feature_type</th>\n",
       "      <th>Feature</th>\n",
       "      <th>BIOTYPE</th>\n",
       "      <th>Amino_acids</th>\n",
       "      <th>Codons</th>\n",
       "      <th>STRAND</th>\n",
       "      <th>LoFtool</th>\n",
       "    </tr>\n",
       "  </thead>\n",
       "  <tbody>\n",
       "    <tr>\n",
       "      <th>29581</th>\n",
       "      <td>8</td>\n",
       "      <td>644</td>\n",
       "      <td>213</td>\n",
       "      <td>0.0</td>\n",
       "      <td>6</td>\n",
       "      <td>10</td>\n",
       "      <td>1</td>\n",
       "      <td>0</td>\n",
       "      <td>168</td>\n",
       "      <td>24</td>\n",
       "      <td>0</td>\n",
       "      <td>1404</td>\n",
       "      <td>1</td>\n",
       "      <td>2104</td>\n",
       "      <td>1</td>\n",
       "      <td>78</td>\n",
       "      <td>1163</td>\n",
       "      <td>1.0</td>\n",
       "      <td>0.116000</td>\n",
       "    </tr>\n",
       "    <tr>\n",
       "      <th>57695</th>\n",
       "      <td>19</td>\n",
       "      <td>644</td>\n",
       "      <td>106</td>\n",
       "      <td>0.0</td>\n",
       "      <td>6</td>\n",
       "      <td>81</td>\n",
       "      <td>1</td>\n",
       "      <td>0</td>\n",
       "      <td>88</td>\n",
       "      <td>31</td>\n",
       "      <td>1</td>\n",
       "      <td>1430</td>\n",
       "      <td>1</td>\n",
       "      <td>1967</td>\n",
       "      <td>1</td>\n",
       "      <td>78</td>\n",
       "      <td>1163</td>\n",
       "      <td>1.0</td>\n",
       "      <td>0.345058</td>\n",
       "    </tr>\n",
       "    <tr>\n",
       "      <th>21641</th>\n",
       "      <td>5</td>\n",
       "      <td>437</td>\n",
       "      <td>0</td>\n",
       "      <td>0.0</td>\n",
       "      <td>6</td>\n",
       "      <td>89</td>\n",
       "      <td>1</td>\n",
       "      <td>1</td>\n",
       "      <td>1</td>\n",
       "      <td>46</td>\n",
       "      <td>1</td>\n",
       "      <td>1340</td>\n",
       "      <td>1</td>\n",
       "      <td>2251</td>\n",
       "      <td>1</td>\n",
       "      <td>201</td>\n",
       "      <td>1643</td>\n",
       "      <td>-1.0</td>\n",
       "      <td>0.068400</td>\n",
       "    </tr>\n",
       "  </tbody>\n",
       "</table>\n",
       "</div>"
      ],
      "text/plain": [
       "       CHROM  REF  ALT  AF_ESP  CLNVC  MC  ORIGIN  CLASS  Allele  Consequence  \\\n",
       "29581      8  644  213     0.0      6  10       1      0     168           24   \n",
       "57695     19  644  106     0.0      6  81       1      0      88           31   \n",
       "21641      5  437    0     0.0      6  89       1      1       1           46   \n",
       "\n",
       "       IMPACT  SYMBOL  Feature_type  Feature  BIOTYPE  Amino_acids  Codons  \\\n",
       "29581       0    1404             1     2104        1           78    1163   \n",
       "57695       1    1430             1     1967        1           78    1163   \n",
       "21641       1    1340             1     2251        1          201    1643   \n",
       "\n",
       "       STRAND   LoFtool  \n",
       "29581     1.0  0.116000  \n",
       "57695     1.0  0.345058  \n",
       "21641    -1.0  0.068400  "
      ]
     },
     "execution_count": 25,
     "metadata": {},
     "output_type": "execute_result"
    }
   ],
   "source": [
    "data.sample(3)"
   ]
  },
  {
   "cell_type": "code",
   "execution_count": 26,
   "metadata": {},
   "outputs": [
    {
     "data": {
      "text/plain": [
       "<AxesSubplot:>"
      ]
     },
     "execution_count": 26,
     "metadata": {},
     "output_type": "execute_result"
    },
    {
     "data": {
      "image/png": "[encoded data removed]",
      "text/plain": [
       "<Figure size 2160x1080 with 2 Axes>"
      ]
     },
     "metadata": {
      "needs_background": "light"
     },
     "output_type": "display_data"
    }
   ],
   "source": [
    "plt.figure(figsize = (30, 15))\n",
    "sns.heatmap(data.corr(), annot = True, linewidths=.5, cmap = plt.cm.cool)"
   ]
  },
  {
   "cell_type": "markdown",
   "metadata": {},
   "source": [
    "The correlation of **ALT** with **Allele** and **MC** with **Consequence** are both above 0.8 hence dropping the **ALT** and **MC** columns."
   ]
  },
  {
   "cell_type": "code",
   "execution_count": 27,
   "metadata": {},
   "outputs": [],
   "source": [
    "data.drop([\"ALT\", \"MC\"],axis = 1, inplace=True)\n",
    "categorical_variables.remove('ALT')\n",
    "categorical_variables.remove(\"MC\")"
   ]
  },
  {
   "cell_type": "markdown",
   "metadata": {},
   "source": [
    "# Apply Feature Scaling"
   ]
  },
  {
   "cell_type": "code",
   "execution_count": 28,
   "metadata": {},
   "outputs": [],
   "source": [
    "mm = MinMaxScaler()\n",
    "for column in [categorical_variables + numeric_variables]:\n",
    "    data[column] = mm.fit_transform(data[column])"
   ]
  },
  {
   "cell_type": "code",
   "execution_count": 29,
   "metadata": {},
   "outputs": [],
   "source": [
    "# Save a copy of the processed data for later use\n",
    "outputfile = 'clinvar_conflicting_processed.csv'\n",
    "data.to_csv(outputfile, index=False)"
   ]
  },
  {
   "cell_type": "markdown",
   "metadata": {},
   "source": [
    "# Split the data\n",
    "\n",
    "Split the data into train and test data sets using **StratifiedShuffleSplit** to maintain the same ratio of predictor classes."
   ]
  },
  {
   "cell_type": "code",
   "execution_count": 30,
   "metadata": {},
   "outputs": [],
   "source": [
    "data = pd.read_csv('./clinvar_conflicting_processed.csv', sep=',')"
   ]
  },
  {
   "cell_type": "code",
   "execution_count": 31,
   "metadata": {},
   "outputs": [],
   "source": [
    "feature_cols = list(data.columns)\n",
    "feature_cols.remove('CLASS')"
   ]
  },
  {
   "cell_type": "code",
   "execution_count": 32,
   "metadata": {},
   "outputs": [
    {
     "data": {
      "text/plain": [
       "(19557, 45631)"
      ]
     },
     "execution_count": 32,
     "metadata": {},
     "output_type": "execute_result"
    }
   ],
   "source": [
    "# Get the split indexes\n",
    "strat_shuf_split = StratifiedShuffleSplit(n_splits=1, \n",
    "                                          test_size=0.3, \n",
    "                                          random_state=42)\n",
    "\n",
    "train_idx, test_idx = next(strat_shuf_split.split(data[feature_cols], data.CLASS))\n",
    "\n",
    "# Create the dataframes\n",
    "X_train = data.loc[train_idx, feature_cols]\n",
    "y_train = data.loc[train_idx, 'CLASS']\n",
    "\n",
    "X_test  = data.loc[test_idx, feature_cols]\n",
    "y_test  = data.loc[test_idx, 'CLASS']\n",
    "len(X_test), len(X_train)"
   ]
  },
  {
   "cell_type": "markdown",
   "metadata": {},
   "source": [
    "# Train models\n",
    "\n",
    "- Standard logistic regression, K-nearest neighbors algorithm, Decision Tree,mRandom Forest\n",
    "- Plot the results using heatmaps\n",
    "- Compare scores: precision, recall, accuracy, F1 score, auc\n",
    "\n",
    "## Logistic Regression"
   ]
  },
  {
   "cell_type": "code",
   "execution_count": 33,
   "metadata": {},
   "outputs": [
    {
     "data": {
      "text/html": [
       "<div>\n",
       "<style scoped>\n",
       "    .dataframe tbody tr th:only-of-type {\n",
       "        vertical-align: middle;\n",
       "    }\n",
       "\n",
       "    .dataframe tbody tr th {\n",
       "        vertical-align: top;\n",
       "    }\n",
       "\n",
       "    .dataframe thead th {\n",
       "        text-align: right;\n",
       "    }\n",
       "</style>\n",
       "<table border=\"1\" class=\"dataframe\">\n",
       "  <thead>\n",
       "    <tr style=\"text-align: right;\">\n",
       "      <th></th>\n",
       "      <th>0.0</th>\n",
       "      <th>1.0</th>\n",
       "    </tr>\n",
       "  </thead>\n",
       "  <tbody>\n",
       "    <tr>\n",
       "      <th>precision</th>\n",
       "      <td>0.747773</td>\n",
       "      <td>0.130435</td>\n",
       "    </tr>\n",
       "    <tr>\n",
       "      <th>recall</th>\n",
       "      <td>0.998633</td>\n",
       "      <td>0.000609</td>\n",
       "    </tr>\n",
       "    <tr>\n",
       "      <th>f1-score</th>\n",
       "      <td>0.855186</td>\n",
       "      <td>0.001211</td>\n",
       "    </tr>\n",
       "  </tbody>\n",
       "</table>\n",
       "</div>"
      ],
      "text/plain": [
       "                0.0       1.0\n",
       "precision  0.747773  0.130435\n",
       "recall     0.998633  0.000609\n",
       "f1-score   0.855186  0.001211"
      ]
     },
     "execution_count": 33,
     "metadata": {},
     "output_type": "execute_result"
    }
   ],
   "source": [
    "# create dataframe for metrics\n",
    "metrics = pd.DataFrame()\n",
    "\n",
    "# Standard logistic regression\n",
    "lr = LogisticRegression(solver='liblinear').fit(X_train, y_train)\n",
    "y_pred_lr = lr.predict(X_test)\n",
    "\n",
    "precision_lr, recall_lr = (round(float(x),2) for x in list(score(y_test,\n",
    "                                                                    y_pred_lr,\n",
    "                                                                    average='weighted'))[:-2])\n",
    "# adding lr stats to metrics DataFrame\n",
    "lr_stats = pd.Series({'precision':precision_lr,\n",
    "                      'recall':recall_lr,\n",
    "                      'accuracy':round(accuracy_score(y_test, y_pred_lr), 2),\n",
    "                      'f1score':round(f1_score(y_test, y_pred_lr), 2),\n",
    "                      'auc': round(roc_auc_score(y_test, y_pred_lr),2)},\n",
    "                     name='Logistic Regression')\n",
    "# Report outcomes\n",
    "pd.DataFrame(classification_report(y_test, y_pred_lr, output_dict=True)).iloc[:3,:2]"
   ]
  },
  {
   "cell_type": "markdown",
   "metadata": {},
   "source": [
    "## K-nearest Neighbors"
   ]
  },
  {
   "cell_type": "code",
   "execution_count": 34,
   "metadata": {},
   "outputs": [
    {
     "data": {
      "text/html": [
       "<div>\n",
       "<style scoped>\n",
       "    .dataframe tbody tr th:only-of-type {\n",
       "        vertical-align: middle;\n",
       "    }\n",
       "\n",
       "    .dataframe tbody tr th {\n",
       "        vertical-align: top;\n",
       "    }\n",
       "\n",
       "    .dataframe thead th {\n",
       "        text-align: right;\n",
       "    }\n",
       "</style>\n",
       "<table border=\"1\" class=\"dataframe\">\n",
       "  <thead>\n",
       "    <tr style=\"text-align: right;\">\n",
       "      <th></th>\n",
       "      <th>0.0</th>\n",
       "      <th>1.0</th>\n",
       "    </tr>\n",
       "  </thead>\n",
       "  <tbody>\n",
       "    <tr>\n",
       "      <th>precision</th>\n",
       "      <td>0.773786</td>\n",
       "      <td>0.349403</td>\n",
       "    </tr>\n",
       "    <tr>\n",
       "      <th>recall</th>\n",
       "      <td>0.817324</td>\n",
       "      <td>0.291075</td>\n",
       "    </tr>\n",
       "    <tr>\n",
       "      <th>f1-score</th>\n",
       "      <td>0.794960</td>\n",
       "      <td>0.317583</td>\n",
       "    </tr>\n",
       "  </tbody>\n",
       "</table>\n",
       "</div>"
      ],
      "text/plain": [
       "                0.0       1.0\n",
       "precision  0.773786  0.349403\n",
       "recall     0.817324  0.291075\n",
       "f1-score   0.794960  0.317583"
      ]
     },
     "execution_count": 34,
     "metadata": {},
     "output_type": "execute_result"
    }
   ],
   "source": [
    "# Estimate KNN model and report outcomes\n",
    "knn = KNeighborsClassifier(n_neighbors=3, weights='distance')\n",
    "knn = knn.fit(X_train, y_train)\n",
    "y_pred_knn = knn.predict(X_test)\n",
    "\n",
    "precision_knn, recall_knn = (round(float(x),2) for x in list(score(y_test,\n",
    "                                                                      y_pred_knn,\n",
    "                                                                      average='weighted'))[:-2])\n",
    "# adding KNN stats to metrics DataFrame\n",
    "knn_stats = pd.Series({'precision':precision_knn,\n",
    "                      'recall':recall_knn,\n",
    "                      'accuracy':round(accuracy_score(y_test, y_pred_knn), 2),\n",
    "                      'f1score':round(f1_score(y_test, y_pred_knn), 2),\n",
    "                      'auc': round(roc_auc_score(y_test, y_pred_knn),2)}, name='KNN')\n",
    "# Report outcomes\n",
    "pd.DataFrame(classification_report(y_test, y_pred_knn, output_dict=True)).iloc[:3,:2]"
   ]
  },
  {
   "cell_type": "markdown",
   "metadata": {},
   "source": [
    "## Decision Tree"
   ]
  },
  {
   "cell_type": "code",
   "execution_count": 35,
   "metadata": {},
   "outputs": [
    {
     "data": {
      "text/plain": [
       "(21179, 44)"
      ]
     },
     "execution_count": 35,
     "metadata": {},
     "output_type": "execute_result"
    }
   ],
   "source": [
    "dt = DecisionTreeClassifier(random_state=42)\n",
    "dt = dt.fit(X_train, y_train)\n",
    "dt.tree_.node_count, dt.tree_.max_depth"
   ]
  },
  {
   "cell_type": "code",
   "execution_count": 36,
   "metadata": {},
   "outputs": [
    {
     "data": {
      "text/html": [
       "<div>\n",
       "<style scoped>\n",
       "    .dataframe tbody tr th:only-of-type {\n",
       "        vertical-align: middle;\n",
       "    }\n",
       "\n",
       "    .dataframe tbody tr th {\n",
       "        vertical-align: top;\n",
       "    }\n",
       "\n",
       "    .dataframe thead th {\n",
       "        text-align: right;\n",
       "    }\n",
       "</style>\n",
       "<table border=\"1\" class=\"dataframe\">\n",
       "  <thead>\n",
       "    <tr style=\"text-align: right;\">\n",
       "      <th></th>\n",
       "      <th>0.0</th>\n",
       "      <th>1.0</th>\n",
       "    </tr>\n",
       "  </thead>\n",
       "  <tbody>\n",
       "    <tr>\n",
       "      <th>precision</th>\n",
       "      <td>0.788235</td>\n",
       "      <td>0.381372</td>\n",
       "    </tr>\n",
       "    <tr>\n",
       "      <th>recall</th>\n",
       "      <td>0.803377</td>\n",
       "      <td>0.359635</td>\n",
       "    </tr>\n",
       "    <tr>\n",
       "      <th>f1-score</th>\n",
       "      <td>0.795734</td>\n",
       "      <td>0.370185</td>\n",
       "    </tr>\n",
       "  </tbody>\n",
       "</table>\n",
       "</div>"
      ],
      "text/plain": [
       "                0.0       1.0\n",
       "precision  0.788235  0.381372\n",
       "recall     0.803377  0.359635\n",
       "f1-score   0.795734  0.370185"
      ]
     },
     "execution_count": 36,
     "metadata": {},
     "output_type": "execute_result"
    }
   ],
   "source": [
    "y_train_pred = dt.predict(X_train)\n",
    "y_pred_dt = dt.predict(X_test)\n",
    "\n",
    "precision_dt, recall_dt = (round(float(x),2) for x in list(score(y_test,\n",
    "                                                                y_pred_dt,\n",
    "                                                                average='weighted'))[:-2])\n",
    "# adding dt stats to metrics DataFrame\n",
    "dt_stats = pd.Series({'precision':precision_dt,\n",
    "                      'recall':recall_dt,\n",
    "                      'accuracy':round(accuracy_score(y_test, y_pred_dt), 2),\n",
    "                      'f1score':round(f1_score(y_test, y_pred_dt), 2),\n",
    "                      'auc': round(roc_auc_score(y_test, y_pred_dt),2)}, name='Decision Tree')\n",
    "# Report outcomes\n",
    "pd.DataFrame(classification_report(y_test, y_pred_dt, output_dict=True)).iloc[:3,:2]"
   ]
  },
  {
   "cell_type": "markdown",
   "metadata": {},
   "source": [
    "## Random forest"
   ]
  },
  {
   "cell_type": "code",
   "execution_count": 37,
   "metadata": {
    "scrolled": true
   },
   "outputs": [],
   "source": [
    "# Initialize the random forest estimator\n",
    "RF = RandomForestClassifier(oob_score=True, \n",
    "                            random_state=42, \n",
    "                            warm_start=True,\n",
    "                            n_jobs=-1)\n",
    "\n",
    "# initialise list for out of bag error\n",
    "oob_list = list()\n",
    "\n",
    "# Iterate through all of the possibilities for number of trees\n",
    "for n_trees in [15, 20, 30, 40, 50, 100, 150, 200, 300, 400]:\n",
    "    \n",
    "    # Use this to set the number of trees\n",
    "    RF.set_params(n_estimators=n_trees)\n",
    "    \n",
    "    # Fit the model\n",
    "    RF.fit(X_train, y_train)\n",
    "    \n",
    "    # Get the out of bag error and store it\n",
    "    oob_error = 1 - RF.oob_score_\n",
    "    oob_list.append(pd.Series({'n_trees': n_trees, 'oob': oob_error}))\n",
    "\n",
    "rf_oob_df = pd.concat(oob_list, axis=1).T.set_index('n_trees')"
   ]
  },
  {
   "cell_type": "code",
   "execution_count": 38,
   "metadata": {},
   "outputs": [
    {
     "data": {
      "image/png": "[encoded data removed]",
      "text/plain": [
       "<Figure size 1008x504 with 1 Axes>"
      ]
     },
     "metadata": {},
     "output_type": "display_data"
    }
   ],
   "source": [
    "sns.set_context('talk')\n",
    "sns.set_style('white')\n",
    "\n",
    "ax = rf_oob_df.plot(legend=False, marker='o', color=\"orange\", figsize=(14, 7), linewidth=5)\n",
    "ax.set(ylabel='out-of-bag error');"
   ]
  },
  {
   "cell_type": "markdown",
   "metadata": {},
   "source": [
    "The error looks like it has stabilized around 100-150 trees."
   ]
  },
  {
   "cell_type": "code",
   "execution_count": 39,
   "metadata": {},
   "outputs": [
    {
     "data": {
      "text/html": [
       "<div>\n",
       "<style scoped>\n",
       "    .dataframe tbody tr th:only-of-type {\n",
       "        vertical-align: middle;\n",
       "    }\n",
       "\n",
       "    .dataframe tbody tr th {\n",
       "        vertical-align: top;\n",
       "    }\n",
       "\n",
       "    .dataframe thead th {\n",
       "        text-align: right;\n",
       "    }\n",
       "</style>\n",
       "<table border=\"1\" class=\"dataframe\">\n",
       "  <thead>\n",
       "    <tr style=\"text-align: right;\">\n",
       "      <th></th>\n",
       "      <th>0.0</th>\n",
       "      <th>1.0</th>\n",
       "    </tr>\n",
       "  </thead>\n",
       "  <tbody>\n",
       "    <tr>\n",
       "      <th>precision</th>\n",
       "      <td>0.785655</td>\n",
       "      <td>0.484793</td>\n",
       "    </tr>\n",
       "    <tr>\n",
       "      <th>recall</th>\n",
       "      <td>0.903876</td>\n",
       "      <td>0.268357</td>\n",
       "    </tr>\n",
       "    <tr>\n",
       "      <th>f1-score</th>\n",
       "      <td>0.840629</td>\n",
       "      <td>0.345476</td>\n",
       "    </tr>\n",
       "  </tbody>\n",
       "</table>\n",
       "</div>"
      ],
      "text/plain": [
       "                0.0       1.0\n",
       "precision  0.785655  0.484793\n",
       "recall     0.903876  0.268357\n",
       "f1-score   0.840629  0.345476"
      ]
     },
     "execution_count": 39,
     "metadata": {},
     "output_type": "execute_result"
    }
   ],
   "source": [
    "rf = RF.set_params(n_estimators=100)\n",
    "\n",
    "y_pred_rf = rf.predict(X_test)\n",
    "precision_rf, recall_rf = (round(float(x),2) for x in list(score(y_test,\n",
    "                                                                    y_pred_rf,\n",
    "                                                                    average='weighted'))[:-2])\n",
    "rf_stats = pd.Series({'precision':precision_rf,\n",
    "                      'recall':recall_rf,\n",
    "                      'accuracy':round(accuracy_score(y_test, y_pred_rf), 2),\n",
    "                      'f1score':round(f1_score(y_test, y_pred_rf), 2),\n",
    "                      'auc': round(roc_auc_score(y_test, y_pred_rf),2)}, name='Random Forest')\n",
    "# Report outcomes\n",
    "pd.DataFrame(classification_report(y_test, y_pred_rf, output_dict=True)).iloc[:3,:2]"
   ]
  },
  {
   "cell_type": "code",
   "execution_count": 40,
   "metadata": {},
   "outputs": [
    {
     "data": {
      "image/png": "[encoded data removed]",
      "text/plain": [
       "<Figure size 864x720 with 8 Axes>"
      ]
     },
     "metadata": {},
     "output_type": "display_data"
    }
   ],
   "source": [
    "fig, axList = plt.subplots(nrows=2, ncols=2)\n",
    "axList = axList.flatten()\n",
    "fig.set_size_inches(12, 10)\n",
    "\n",
    "\n",
    "models = coeff_labels = ['lr', 'knn', 'dt', 'rf']\n",
    "cm = [confusion_matrix(y_test, y_pred_lr),\n",
    "      confusion_matrix(y_test, y_pred_knn),\n",
    "      confusion_matrix(y_test, y_pred_dt),\n",
    "      confusion_matrix(y_test, y_pred_rf)]\n",
    "labels = ['False', 'True']\n",
    "\n",
    "for ax,model, idx in zip(axList, models, range(0,4)):\n",
    "    sns.heatmap(cm[idx], ax=ax, annot=True, fmt='d', cmap='summer');\n",
    "    ax.set(title=model);\n",
    "    ax.set_xticklabels(labels, fontsize=20);\n",
    "    ax.set_yticklabels(labels[::-1], fontsize=20);\n",
    "    ax.set_ylabel('Prediction', fontsize=25);\n",
    "    ax.set_xlabel('Ground Truth', fontsize=25)\n",
    "    \n",
    "plt.tight_layout()"
   ]
  },
  {
   "cell_type": "code",
   "execution_count": 41,
   "metadata": {},
   "outputs": [
    {
     "data": {
      "text/html": [
       "<div>\n",
       "<style scoped>\n",
       "    .dataframe tbody tr th:only-of-type {\n",
       "        vertical-align: middle;\n",
       "    }\n",
       "\n",
       "    .dataframe tbody tr th {\n",
       "        vertical-align: top;\n",
       "    }\n",
       "\n",
       "    .dataframe thead th {\n",
       "        text-align: right;\n",
       "    }\n",
       "</style>\n",
       "<table border=\"1\" class=\"dataframe\">\n",
       "  <thead>\n",
       "    <tr style=\"text-align: right;\">\n",
       "      <th></th>\n",
       "      <th>0.0</th>\n",
       "      <th>1.0</th>\n",
       "    </tr>\n",
       "  </thead>\n",
       "  <tbody>\n",
       "    <tr>\n",
       "      <th>precision</th>\n",
       "      <td>0.747773</td>\n",
       "      <td>0.130435</td>\n",
       "    </tr>\n",
       "    <tr>\n",
       "      <th>recall</th>\n",
       "      <td>0.998633</td>\n",
       "      <td>0.000609</td>\n",
       "    </tr>\n",
       "    <tr>\n",
       "      <th>f1-score</th>\n",
       "      <td>0.855186</td>\n",
       "      <td>0.001211</td>\n",
       "    </tr>\n",
       "  </tbody>\n",
       "</table>\n",
       "</div>"
      ],
      "text/plain": [
       "                0.0       1.0\n",
       "precision  0.747773  0.130435\n",
       "recall     0.998633  0.000609\n",
       "f1-score   0.855186  0.001211"
      ]
     },
     "execution_count": 41,
     "metadata": {},
     "output_type": "execute_result"
    }
   ],
   "source": [
    "pd.DataFrame(classification_report(y_test, y_pred_lr, output_dict=True)).iloc[:3,:2]"
   ]
  },
  {
   "cell_type": "code",
   "execution_count": 42,
   "metadata": {},
   "outputs": [
    {
     "data": {
      "text/html": [
       "<div>\n",
       "<style scoped>\n",
       "    .dataframe tbody tr th:only-of-type {\n",
       "        vertical-align: middle;\n",
       "    }\n",
       "\n",
       "    .dataframe tbody tr th {\n",
       "        vertical-align: top;\n",
       "    }\n",
       "\n",
       "    .dataframe thead th {\n",
       "        text-align: right;\n",
       "    }\n",
       "</style>\n",
       "<table border=\"1\" class=\"dataframe\">\n",
       "  <thead>\n",
       "    <tr style=\"text-align: right;\">\n",
       "      <th></th>\n",
       "      <th>0.0</th>\n",
       "      <th>1.0</th>\n",
       "    </tr>\n",
       "  </thead>\n",
       "  <tbody>\n",
       "    <tr>\n",
       "      <th>precision</th>\n",
       "      <td>0.773786</td>\n",
       "      <td>0.349403</td>\n",
       "    </tr>\n",
       "    <tr>\n",
       "      <th>recall</th>\n",
       "      <td>0.817324</td>\n",
       "      <td>0.291075</td>\n",
       "    </tr>\n",
       "    <tr>\n",
       "      <th>f1-score</th>\n",
       "      <td>0.794960</td>\n",
       "      <td>0.317583</td>\n",
       "    </tr>\n",
       "  </tbody>\n",
       "</table>\n",
       "</div>"
      ],
      "text/plain": [
       "                0.0       1.0\n",
       "precision  0.773786  0.349403\n",
       "recall     0.817324  0.291075\n",
       "f1-score   0.794960  0.317583"
      ]
     },
     "execution_count": 42,
     "metadata": {},
     "output_type": "execute_result"
    }
   ],
   "source": [
    "pd.DataFrame(classification_report(y_test, y_pred_knn, output_dict=True)).iloc[:3,:2]"
   ]
  },
  {
   "cell_type": "code",
   "execution_count": 43,
   "metadata": {},
   "outputs": [
    {
     "data": {
      "text/html": [
       "<div>\n",
       "<style scoped>\n",
       "    .dataframe tbody tr th:only-of-type {\n",
       "        vertical-align: middle;\n",
       "    }\n",
       "\n",
       "    .dataframe tbody tr th {\n",
       "        vertical-align: top;\n",
       "    }\n",
       "\n",
       "    .dataframe thead th {\n",
       "        text-align: right;\n",
       "    }\n",
       "</style>\n",
       "<table border=\"1\" class=\"dataframe\">\n",
       "  <thead>\n",
       "    <tr style=\"text-align: right;\">\n",
       "      <th></th>\n",
       "      <th>0.0</th>\n",
       "      <th>1.0</th>\n",
       "    </tr>\n",
       "  </thead>\n",
       "  <tbody>\n",
       "    <tr>\n",
       "      <th>precision</th>\n",
       "      <td>0.788235</td>\n",
       "      <td>0.381372</td>\n",
       "    </tr>\n",
       "    <tr>\n",
       "      <th>recall</th>\n",
       "      <td>0.803377</td>\n",
       "      <td>0.359635</td>\n",
       "    </tr>\n",
       "    <tr>\n",
       "      <th>f1-score</th>\n",
       "      <td>0.795734</td>\n",
       "      <td>0.370185</td>\n",
       "    </tr>\n",
       "  </tbody>\n",
       "</table>\n",
       "</div>"
      ],
      "text/plain": [
       "                0.0       1.0\n",
       "precision  0.788235  0.381372\n",
       "recall     0.803377  0.359635\n",
       "f1-score   0.795734  0.370185"
      ]
     },
     "execution_count": 43,
     "metadata": {},
     "output_type": "execute_result"
    }
   ],
   "source": [
    "pd.DataFrame(classification_report(y_test, y_pred_dt, output_dict=True)).iloc[:3,:2]"
   ]
  },
  {
   "cell_type": "code",
   "execution_count": 44,
   "metadata": {},
   "outputs": [
    {
     "data": {
      "text/html": [
       "<div>\n",
       "<style scoped>\n",
       "    .dataframe tbody tr th:only-of-type {\n",
       "        vertical-align: middle;\n",
       "    }\n",
       "\n",
       "    .dataframe tbody tr th {\n",
       "        vertical-align: top;\n",
       "    }\n",
       "\n",
       "    .dataframe thead th {\n",
       "        text-align: right;\n",
       "    }\n",
       "</style>\n",
       "<table border=\"1\" class=\"dataframe\">\n",
       "  <thead>\n",
       "    <tr style=\"text-align: right;\">\n",
       "      <th></th>\n",
       "      <th>0.0</th>\n",
       "      <th>1.0</th>\n",
       "    </tr>\n",
       "  </thead>\n",
       "  <tbody>\n",
       "    <tr>\n",
       "      <th>precision</th>\n",
       "      <td>0.785655</td>\n",
       "      <td>0.484793</td>\n",
       "    </tr>\n",
       "    <tr>\n",
       "      <th>recall</th>\n",
       "      <td>0.903876</td>\n",
       "      <td>0.268357</td>\n",
       "    </tr>\n",
       "    <tr>\n",
       "      <th>f1-score</th>\n",
       "      <td>0.840629</td>\n",
       "      <td>0.345476</td>\n",
       "    </tr>\n",
       "  </tbody>\n",
       "</table>\n",
       "</div>"
      ],
      "text/plain": [
       "                0.0       1.0\n",
       "precision  0.785655  0.484793\n",
       "recall     0.903876  0.268357\n",
       "f1-score   0.840629  0.345476"
      ]
     },
     "execution_count": 44,
     "metadata": {},
     "output_type": "execute_result"
    }
   ],
   "source": [
    "pd.DataFrame(classification_report(y_test, y_pred_rf, output_dict=True)).iloc[:3,:2]"
   ]
  },
  {
   "cell_type": "markdown",
   "metadata": {},
   "source": [
    "# Results\n",
    "The classsification report of each classifier shows that I am able to predict consistent classification, with an F1 score of 0.855186 for **Logistic Regression** model. Similar result can be achieved using any of the model above. I predicted conflicting classification with F2 score 0.370185 with **Decision Tree** algorithm which is significantly better than the Logistic Regression with F1 score 0.001211."
   ]
  },
  {
   "cell_type": "markdown",
   "metadata": {},
   "source": [
    "There is a large amount of misclassification which can be seen on the average error report below."
   ]
  },
  {
   "cell_type": "code",
   "execution_count": 45,
   "metadata": {},
   "outputs": [
    {
     "data": {
      "text/html": [
       "<div>\n",
       "<style scoped>\n",
       "    .dataframe tbody tr th:only-of-type {\n",
       "        vertical-align: middle;\n",
       "    }\n",
       "\n",
       "    .dataframe tbody tr th {\n",
       "        vertical-align: top;\n",
       "    }\n",
       "\n",
       "    .dataframe thead th {\n",
       "        text-align: right;\n",
       "    }\n",
       "</style>\n",
       "<table border=\"1\" class=\"dataframe\">\n",
       "  <thead>\n",
       "    <tr style=\"text-align: right;\">\n",
       "      <th></th>\n",
       "      <th>precision</th>\n",
       "      <th>recall</th>\n",
       "      <th>accuracy</th>\n",
       "      <th>f1score</th>\n",
       "      <th>auc</th>\n",
       "    </tr>\n",
       "  </thead>\n",
       "  <tbody>\n",
       "    <tr>\n",
       "      <th>Logistic Regression</th>\n",
       "      <td>0.59</td>\n",
       "      <td>0.75</td>\n",
       "      <td>0.75</td>\n",
       "      <td>0.00</td>\n",
       "      <td>0.50</td>\n",
       "    </tr>\n",
       "    <tr>\n",
       "      <th>KNN</th>\n",
       "      <td>0.67</td>\n",
       "      <td>0.68</td>\n",
       "      <td>0.68</td>\n",
       "      <td>0.32</td>\n",
       "      <td>0.55</td>\n",
       "    </tr>\n",
       "    <tr>\n",
       "      <th>Decision Tree</th>\n",
       "      <td>0.69</td>\n",
       "      <td>0.69</td>\n",
       "      <td>0.69</td>\n",
       "      <td>0.37</td>\n",
       "      <td>0.58</td>\n",
       "    </tr>\n",
       "    <tr>\n",
       "      <th>Random Forest</th>\n",
       "      <td>0.71</td>\n",
       "      <td>0.74</td>\n",
       "      <td>0.74</td>\n",
       "      <td>0.35</td>\n",
       "      <td>0.59</td>\n",
       "    </tr>\n",
       "  </tbody>\n",
       "</table>\n",
       "</div>"
      ],
      "text/plain": [
       "                     precision  recall  accuracy  f1score   auc\n",
       "Logistic Regression       0.59    0.75      0.75     0.00  0.50\n",
       "KNN                       0.67    0.68      0.68     0.32  0.55\n",
       "Decision Tree             0.69    0.69      0.69     0.37  0.58\n",
       "Random Forest             0.71    0.74      0.74     0.35  0.59"
      ]
     },
     "execution_count": 45,
     "metadata": {},
     "output_type": "execute_result"
    }
   ],
   "source": [
    "metrics.append([lr_stats, knn_stats, dt_stats, rf_stats])"
   ]
  },
  {
   "cell_type": "markdown",
   "metadata": {},
   "source": [
    "# Next Steps\n",
    "\n",
    "We could further optimize these models by using **GridSearchCV** or **Boosting** algorithms. It took a significant amount of time when training AdaBoostClassifier so we might need to limit the amount of training data."
   ]
  }
 ],
 "metadata": {
  "kernelspec": {
   "display_name": "Python 3",
   "language": "python",
   "name": "python3"
  },
  "language_info": {
   "codemirror_mode": {
    "name": "ipython",
    "version": 3
   },
   "file_extension": ".py",
   "mimetype": "text/x-python",
   "name": "python",
   "nbconvert_exporter": "python",
   "pygments_lexer": "ipython3",
   "version": "3.8.5"
  }
 },
 "nbformat": 4,
 "nbformat_minor": 4
}
